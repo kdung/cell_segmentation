{
 "cells": [
  {
   "cell_type": "code",
   "execution_count": 1,
   "metadata": {},
   "outputs": [
    {
     "name": "stderr",
     "output_type": "stream",
     "text": [
      "/usr/local/Cellar/python/3.6.4_4/Frameworks/Python.framework/Versions/3.6/lib/python3.6/importlib/_bootstrap.py:219: RuntimeWarning: numpy.dtype size changed, may indicate binary incompatibility. Expected 96, got 88\n",
      "  return f(*args, **kwds)\n",
      "Using TensorFlow backend.\n",
      "/usr/local/lib/python3.6/site-packages/sklearn/cross_validation.py:41: DeprecationWarning: This module was deprecated in version 0.18 in favor of the model_selection module into which all the refactored classes and functions are moved. Also note that the interface of the new CV iterators are different from that of this module. This module will be removed in 0.20.\n",
      "  \"This module will be removed in 0.20.\", DeprecationWarning)\n"
     ]
    }
   ],
   "source": [
    "import os\n",
    "import sys\n",
    "import random\n",
    "import warnings\n",
    "\n",
    "import numpy as np\n",
    "import pandas as pd\n",
    "\n",
    "import matplotlib.pyplot as plt\n",
    "\n",
    "from tqdm import tqdm\n",
    "from itertools import chain\n",
    "from skimage.io import imread, imshow, imread_collection, concatenate_images\n",
    "from skimage.transform import resize\n",
    "from skimage.morphology import label\n",
    "\n",
    "from keras.models import Model, load_model\n",
    "from keras.layers import Input\n",
    "from keras.layers.core import Lambda\n",
    "from keras.layers.convolutional import Conv2D, Conv2DTranspose\n",
    "from keras.layers.pooling import MaxPooling2D\n",
    "from keras.layers.merge import concatenate\n",
    "from keras.callbacks import EarlyStopping, ModelCheckpoint\n",
    "from keras import backend as K\n",
    "\n",
    "import tensorflow as tf\n",
    "import glob\n",
    "from PIL import Image\n",
    "from sklearn import metrics, cross_validation\n"
   ]
  },
  {
   "cell_type": "code",
   "execution_count": 5,
   "metadata": {
    "collapsed": true
   },
   "outputs": [],
   "source": [
    "# Set some parameters\n",
    "IMG_WIDTH = 64\n",
    "IMG_HEIGHT = 64\n",
    "IMG_CHANNELS = 3\n",
    "TRAIN_PATH = 'train'\n",
    "TEST_PATH = 'test'\n",
    "\n",
    "warnings.filterwarnings('ignore', category=UserWarning, module='skimage')\n",
    "seed = 42\n",
    "random.seed = seed\n",
    "np.random.seed = seed\n",
    "samples = [file for file in glob.glob('../data/images/64x64/*.png')]\n",
    "masks = [file for file in glob.glob('../data/masks/64x64/*.npy')]"
   ]
  },
  {
   "cell_type": "code",
   "execution_count": 6,
   "metadata": {},
   "outputs": [
    {
     "name": "stdout",
     "output_type": "stream",
     "text": [
      "7680\n",
      "7680\n"
     ]
    }
   ],
   "source": [
    "print(len(samples))\n",
    "print(len(masks))"
   ]
  },
  {
   "cell_type": "code",
   "execution_count": 8,
   "metadata": {},
   "outputs": [
    {
     "name": "stdout",
     "output_type": "stream",
     "text": [
      "Getting and resizing train images and masks ... \n"
     ]
    },
    {
     "name": "stderr",
     "output_type": "stream",
     "text": [
      "100%|██████████| 7680/7680 [03:22<00:00, 37.93it/s]\n"
     ]
    }
   ],
   "source": [
    "X = np.zeros((len(samples), IMG_HEIGHT, IMG_WIDTH, IMG_CHANNELS), dtype=np.uint8)\n",
    "Y = np.zeros((len(masks), IMG_HEIGHT, IMG_WIDTH, 1), dtype=np.bool)\n",
    "print('Getting and resizing train images and masks ... ')\n",
    "sys.stdout.flush()\n",
    "for i, id_ in tqdm(enumerate(samples), total=len(samples)):\n",
    "    X[i] = imread(id_)[:,:,:IMG_CHANNELS]\n",
    "    #img = resize(img, (IMG_HEIGHT, IMG_WIDTH), mode='constant', preserve_range=True)\n",
    "    mask = np.zeros((IMG_HEIGHT, IMG_WIDTH, 1), dtype=np.bool)\n",
    "    mask_ = np.load('../data/masks/64x64/' + os.path.basename(id_)[:-4] + '.npy')\n",
    "    mask = np.expand_dims(mask_, axis=-1)\n",
    "    #imshow(np.squeeze(mask))\n",
    "    #plt.show()\n",
    "    Y[i] = mask\n",
    "\n"
   ]
  },
  {
   "cell_type": "code",
   "execution_count": 9,
   "metadata": {},
   "outputs": [
    {
     "name": "stdout",
     "output_type": "stream",
     "text": [
      "6144\n",
      "6144\n"
     ]
    }
   ],
   "source": [
    "X_train, X_test, y_train, y_test = cross_validation.train_test_split(X, Y, test_size=0.2, random_state=42)\n",
    "print(len(X_train))\n",
    "print(len(y_train))"
   ]
  },
  {
   "cell_type": "code",
   "execution_count": 12,
   "metadata": {},
   "outputs": [
    {
     "name": "stderr",
     "output_type": "stream",
     "text": [
      "/usr/local/lib/python3.6/site-packages/skimage/io/_plugins/matplotlib_plugin.py:51: FutureWarning: Conversion of the second argument of issubdtype from `float` to `np.floating` is deprecated. In future, it will be treated as `np.float64 == np.dtype(float).type`.\n",
      "  out_of_range_float = (np.issubdtype(image.dtype, np.float) and\n"
     ]
    },
    {
     "data": {
      "image/png": "[encoded data removed]",
      "text/plain": [
       "<matplotlib.figure.Figure at 0x1234bb400>"
      ]
     },
     "metadata": {},
     "output_type": "display_data"
    },
    {
     "data": {
      "image/png": "[encoded data removed]",
      "text/plain": [
       "<matplotlib.figure.Figure at 0x1237562b0>"
      ]
     },
     "metadata": {},
     "output_type": "display_data"
    }
   ],
   "source": [
    "# Check if training data looks all right\n",
    "ix = random.randint(0, len(X))\n",
    "imshow(X[ix])\n",
    "plt.show()\n",
    "imshow(np.squeeze(Y[ix]))\n",
    "plt.show()"
   ]
  },
  {
   "cell_type": "code",
   "execution_count": 13,
   "metadata": {
    "collapsed": true
   },
   "outputs": [],
   "source": [
    "# Dice coefficient\n",
    "def dice_coef(y_true, y_pred):\n",
    "#    score, up_opt = tf.metrics.mean_iou(y_true, y_pred, 2)\n",
    "    intersection = K.sum(y_pred * y_true)\n",
    "    union = K.sum(y_pred + y_true - y_pred * y_true)\n",
    "    score = 2 * intersection / (union + intersection)\n",
    "    K.get_session().run(tf.local_variables_initializer())\n",
    "    score = tf.identity(score)\n",
    "    return score\n",
    "\n",
    "def iou(y_true, y_pred):\n",
    "    intersection = K.sum(y_pred * y_true)\n",
    "    union = K.sum(y_pred + y_true) - intersection\n",
    "    score = intersection / union\n",
    "    K.get_session().run(tf.local_variables_initializer())\n",
    "    score = tf.identity(score)\n",
    "    return score\n",
    "\n",
    "def dice_coef_loss(y_true, y_pred):\n",
    "    return -dice_coef(y_true, y_pred)\n",
    "\n",
    "def accuracy(y_true, y_pred):\n",
    "    acc = K.mean(y_pred == y_train)\n",
    "    K.get_session().run(tf.local_variables_initializer())\n",
    "    acc = tf.identity(acc)\n",
    "    return acc"
   ]
  },
  {
   "cell_type": "code",
   "execution_count": 17,
   "metadata": {},
   "outputs": [
    {
     "name": "stdout",
     "output_type": "stream",
     "text": [
      "__________________________________________________________________________________________________\n",
      "Layer (type)                    Output Shape         Param #     Connected to                     \n",
      "==================================================================================================\n",
      "input_4 (InputLayer)            (None, 64, 64, 3)    0                                            \n",
      "__________________________________________________________________________________________________\n",
      "lambda_4 (Lambda)               (None, 64, 64, 3)    0           input_4[0][0]                    \n",
      "__________________________________________________________________________________________________\n",
      "conv2d_51 (Conv2D)              (None, 64, 64, 64)   1792        lambda_4[0][0]                   \n",
      "__________________________________________________________________________________________________\n",
      "conv2d_52 (Conv2D)              (None, 64, 64, 64)   36928       conv2d_51[0][0]                  \n",
      "__________________________________________________________________________________________________\n",
      "conv2d_53 (Conv2D)              (None, 32, 32, 64)   16448       conv2d_52[0][0]                  \n",
      "__________________________________________________________________________________________________\n",
      "conv2d_54 (Conv2D)              (None, 32, 32, 128)  73856       conv2d_53[0][0]                  \n",
      "__________________________________________________________________________________________________\n",
      "conv2d_55 (Conv2D)              (None, 32, 32, 128)  147584      conv2d_54[0][0]                  \n",
      "__________________________________________________________________________________________________\n",
      "conv2d_56 (Conv2D)              (None, 16, 16, 128)  65664       conv2d_55[0][0]                  \n",
      "__________________________________________________________________________________________________\n",
      "conv2d_57 (Conv2D)              (None, 16, 16, 256)  295168      conv2d_56[0][0]                  \n",
      "__________________________________________________________________________________________________\n",
      "conv2d_58 (Conv2D)              (None, 16, 16, 256)  590080      conv2d_57[0][0]                  \n",
      "__________________________________________________________________________________________________\n",
      "conv2d_59 (Conv2D)              (None, 8, 8, 256)    262400      conv2d_58[0][0]                  \n",
      "__________________________________________________________________________________________________\n",
      "conv2d_60 (Conv2D)              (None, 8, 8, 512)    1180160     conv2d_59[0][0]                  \n",
      "__________________________________________________________________________________________________\n",
      "conv2d_61 (Conv2D)              (None, 8, 8, 512)    2359808     conv2d_60[0][0]                  \n",
      "__________________________________________________________________________________________________\n",
      "conv2d_62 (Conv2D)              (None, 4, 4, 512)    1049088     conv2d_61[0][0]                  \n",
      "__________________________________________________________________________________________________\n",
      "conv2d_63 (Conv2D)              (None, 4, 4, 1024)   4719616     conv2d_62[0][0]                  \n",
      "__________________________________________________________________________________________________\n",
      "conv2d_64 (Conv2D)              (None, 4, 4, 1024)   9438208     conv2d_63[0][0]                  \n",
      "__________________________________________________________________________________________________\n",
      "conv2d_transpose_9 (Conv2DTrans (None, 8, 8, 512)    2097664     conv2d_64[0][0]                  \n",
      "__________________________________________________________________________________________________\n",
      "concatenate_9 (Concatenate)     (None, 8, 8, 1024)   0           conv2d_transpose_9[0][0]         \n",
      "                                                                 conv2d_61[0][0]                  \n",
      "__________________________________________________________________________________________________\n",
      "conv2d_65 (Conv2D)              (None, 8, 8, 512)    4719104     concatenate_9[0][0]              \n",
      "__________________________________________________________________________________________________\n",
      "conv2d_66 (Conv2D)              (None, 8, 8, 512)    2359808     conv2d_65[0][0]                  \n",
      "__________________________________________________________________________________________________\n",
      "conv2d_transpose_10 (Conv2DTran (None, 16, 16, 256)  524544      conv2d_66[0][0]                  \n",
      "__________________________________________________________________________________________________\n",
      "concatenate_10 (Concatenate)    (None, 16, 16, 512)  0           conv2d_transpose_10[0][0]        \n",
      "                                                                 conv2d_58[0][0]                  \n",
      "__________________________________________________________________________________________________\n",
      "conv2d_67 (Conv2D)              (None, 16, 16, 256)  1179904     concatenate_10[0][0]             \n",
      "__________________________________________________________________________________________________\n",
      "conv2d_68 (Conv2D)              (None, 16, 16, 256)  590080      conv2d_67[0][0]                  \n",
      "__________________________________________________________________________________________________\n",
      "conv2d_transpose_11 (Conv2DTran (None, 32, 32, 128)  131200      conv2d_68[0][0]                  \n",
      "__________________________________________________________________________________________________\n",
      "concatenate_11 (Concatenate)    (None, 32, 32, 256)  0           conv2d_transpose_11[0][0]        \n",
      "                                                                 conv2d_55[0][0]                  \n",
      "__________________________________________________________________________________________________\n",
      "conv2d_69 (Conv2D)              (None, 32, 32, 128)  295040      concatenate_11[0][0]             \n",
      "__________________________________________________________________________________________________\n",
      "conv2d_70 (Conv2D)              (None, 32, 32, 128)  147584      conv2d_69[0][0]                  \n",
      "__________________________________________________________________________________________________\n",
      "conv2d_transpose_12 (Conv2DTran (None, 64, 64, 64)   32832       conv2d_70[0][0]                  \n",
      "__________________________________________________________________________________________________\n",
      "concatenate_12 (Concatenate)    (None, 64, 64, 128)  0           conv2d_transpose_12[0][0]        \n",
      "                                                                 conv2d_52[0][0]                  \n",
      "__________________________________________________________________________________________________\n",
      "conv2d_71 (Conv2D)              (None, 64, 64, 64)   73792       concatenate_12[0][0]             \n",
      "__________________________________________________________________________________________________\n",
      "conv2d_72 (Conv2D)              (None, 64, 64, 64)   36928       conv2d_71[0][0]                  \n",
      "__________________________________________________________________________________________________\n",
      "conv2d_73 (Conv2D)              (None, 64, 64, 1)    65          conv2d_72[0][0]                  \n",
      "==================================================================================================\n",
      "Total params: 32,425,345\n",
      "Trainable params: 32,425,345\n",
      "Non-trainable params: 0\n",
      "__________________________________________________________________________________________________\n"
     ]
    }
   ],
   "source": [
    "# Build U-Net model\n",
    "inputs = Input((IMG_HEIGHT, IMG_WIDTH, IMG_CHANNELS))\n",
    "s = Lambda(lambda x: x / 255) (inputs)\n",
    "\n",
    "c1 = Conv2D(64, (3, 3), activation='relu', padding='same') (s)\n",
    "c1 = Conv2D(64, (3, 3), activation='relu', padding='same') (c1)\n",
    "p1 = Conv2D(64, (2, 2), activation='relu', strides=(2,2), padding='valid') (c1)\n",
    "#p1 = MaxPooling2D((2, 2)) (c1)\n",
    "\n",
    "c2 = Conv2D(128, (3, 3), activation='relu', padding='same') (p1)\n",
    "c2 = Conv2D(128, (3, 3), activation='relu', padding='same') (c2)\n",
    "p2 = Conv2D(128, (2, 2), activation='relu', strides=(2,2), padding='valid') (c2)\n",
    "#p2 = MaxPooling2D((2, 2)) (c2)\n",
    "\n",
    "c3 = Conv2D(256, (3, 3), activation='relu', padding='same') (p2)\n",
    "c3 = Conv2D(256, (3, 3), activation='relu', padding='same') (c3)\n",
    "p3 = Conv2D(256, (2, 2), activation='relu', strides=(2,2), padding='valid') (c3)\n",
    "#p3 = MaxPooling2D((2, 2)) (c3)\n",
    "\n",
    "c4 = Conv2D(512, (3, 3), activation='relu', padding='same') (p3)\n",
    "c4 = Conv2D(512, (3, 3), activation='relu', padding='same') (c4)\n",
    "p4 = Conv2D(512, (2, 2), activation='relu', strides=(2,2), padding='valid') (c4)\n",
    "#p4 = MaxPooling2D(pool_size=(2, 2)) (c4)\n",
    "\n",
    "c5 = Conv2D(1024, (3, 3), activation='relu', padding='same') (p4)\n",
    "c5 = Conv2D(1024, (3, 3), activation='relu', padding='same') (c5)\n",
    "\n",
    "u6 = Conv2DTranspose(512, (2, 2), strides=(2, 2), padding='same') (c5)\n",
    "u6 = concatenate([u6, c4])\n",
    "\n",
    "c6 = Conv2D(512, (3, 3), activation='relu', padding='same') (u6)\n",
    "c6 = Conv2D(512, (3, 3), activation='relu', padding='same') (c6)\n",
    "\n",
    "u7 = Conv2DTranspose(256, (2, 2), strides=(2, 2), padding='same') (c6)\n",
    "u7 = concatenate([u7, c3])\n",
    "\n",
    "c7 = Conv2D(256, (3, 3), activation='relu', padding='same') (u7)\n",
    "c7 = Conv2D(256, (3, 3), activation='relu', padding='same') (c7)\n",
    "\n",
    "u8 = Conv2DTranspose(128, (2, 2), strides=(2, 2), padding='same') (c7)\n",
    "u8 = concatenate([u8, c2])\n",
    "c8 = Conv2D(128, (3, 3), activation='relu', padding='same') (u8)\n",
    "c8 = Conv2D(128, (3, 3), activation='relu', padding='same') (c8)\n",
    "\n",
    "u9 = Conv2DTranspose(64, (2, 2), strides=(2, 2), padding='same') (c8)\n",
    "u9 = concatenate([u9, c1], axis=3)\n",
    "c9 = Conv2D(64, (3, 3), activation='relu', padding='same') (u9)\n",
    "c9 = Conv2D(64, (3, 3), activation='relu', padding='same') (c9)\n",
    "\n",
    "\n",
    "outputs = Conv2D(1, (1, 1), activation='sigmoid') (c9)\n",
    "\n",
    "model = Model(inputs=[inputs], outputs=[outputs])\n",
    "model.compile(optimizer='adam', loss='binary_crossentropy', metrics=[dice_coef])\n",
    "model.summary()"
   ]
  },
  {
   "cell_type": "code",
   "execution_count": 14,
   "metadata": {
    "scrolled": true
   },
   "outputs": [
    {
     "name": "stdout",
     "output_type": "stream",
     "text": [
      "Train on 5529 samples, validate on 615 samples\n",
      "Epoch 1/30\n",
      "5529/5529 [==============================] - 27s 5ms/step - loss: 0.1533 - dice_coef: 0.8605 - val_loss: 0.1973 - val_dice_coef: 0.8472\n",
      "\n",
      "Epoch 00001: val_loss improved from inf to 0.19729, saving model to model-full-bce-64x64-32.h5\n",
      "Epoch 2/30\n",
      "5529/5529 [==============================] - 26s 5ms/step - loss: 0.1475 - dice_coef: 0.8659 - val_loss: 0.1873 - val_dice_coef: 0.8632\n",
      "\n",
      "Epoch 00002: val_loss improved from 0.19729 to 0.18725, saving model to model-full-bce-64x64-32.h5\n",
      "Epoch 3/30\n",
      "5529/5529 [==============================] - 26s 5ms/step - loss: 0.1378 - dice_coef: 0.8753 - val_loss: 0.1828 - val_dice_coef: 0.8550\n",
      "\n",
      "Epoch 00003: val_loss improved from 0.18725 to 0.18279, saving model to model-full-bce-64x64-32.h5\n",
      "Epoch 4/30\n",
      "5529/5529 [==============================] - 26s 5ms/step - loss: 0.1327 - dice_coef: 0.8798 - val_loss: 0.1772 - val_dice_coef: 0.8622\n",
      "\n",
      "Epoch 00004: val_loss improved from 0.18279 to 0.17718, saving model to model-full-bce-64x64-32.h5\n",
      "Epoch 5/30\n",
      "5529/5529 [==============================] - 26s 5ms/step - loss: 0.1300 - dice_coef: 0.8822 - val_loss: 0.1695 - val_dice_coef: 0.8734\n",
      "\n",
      "Epoch 00005: val_loss improved from 0.17718 to 0.16950, saving model to model-full-bce-64x64-32.h5\n",
      "Epoch 6/30\n",
      "5529/5529 [==============================] - 26s 5ms/step - loss: 0.1214 - dice_coef: 0.8902 - val_loss: 0.1740 - val_dice_coef: 0.8724\n",
      "\n",
      "Epoch 00006: val_loss did not improve from 0.16950\n",
      "Epoch 7/30\n",
      "5529/5529 [==============================] - 26s 5ms/step - loss: 0.1135 - dice_coef: 0.8977 - val_loss: 0.1642 - val_dice_coef: 0.8746\n",
      "\n",
      "Epoch 00007: val_loss improved from 0.16950 to 0.16415, saving model to model-full-bce-64x64-32.h5\n",
      "Epoch 8/30\n",
      "5529/5529 [==============================] - 26s 5ms/step - loss: 0.1078 - dice_coef: 0.9027 - val_loss: 0.1567 - val_dice_coef: 0.8737\n",
      "\n",
      "Epoch 00008: val_loss improved from 0.16415 to 0.15672, saving model to model-full-bce-64x64-32.h5\n",
      "Epoch 9/30\n",
      "5529/5529 [==============================] - 26s 5ms/step - loss: 0.1032 - dice_coef: 0.9069 - val_loss: 0.1580 - val_dice_coef: 0.8874\n",
      "\n",
      "Epoch 00009: val_loss did not improve from 0.15672\n",
      "Epoch 10/30\n",
      "5529/5529 [==============================] - 26s 5ms/step - loss: 0.1025 - dice_coef: 0.9077 - val_loss: 0.1581 - val_dice_coef: 0.8856\n",
      "\n",
      "Epoch 00010: val_loss did not improve from 0.15672\n",
      "Epoch 11/30\n",
      "5529/5529 [==============================] - 26s 5ms/step - loss: 0.0939 - dice_coef: 0.9158 - val_loss: 0.1564 - val_dice_coef: 0.8829\n",
      "\n",
      "Epoch 00011: val_loss improved from 0.15672 to 0.15642, saving model to model-full-bce-64x64-32.h5\n",
      "Epoch 12/30\n",
      "5529/5529 [==============================] - 26s 5ms/step - loss: 0.0884 - dice_coef: 0.9205 - val_loss: 0.1533 - val_dice_coef: 0.8935\n",
      "\n",
      "Epoch 00012: val_loss improved from 0.15642 to 0.15333, saving model to model-full-bce-64x64-32.h5\n",
      "Epoch 13/30\n",
      "5529/5529 [==============================] - 26s 5ms/step - loss: 0.0929 - dice_coef: 0.9163 - val_loss: 0.1462 - val_dice_coef: 0.8989\n",
      "\n",
      "Epoch 00013: val_loss improved from 0.15333 to 0.14623, saving model to model-full-bce-64x64-32.h5\n",
      "Epoch 14/30\n",
      "5529/5529 [==============================] - 26s 5ms/step - loss: 0.0798 - dice_coef: 0.9283 - val_loss: 0.1476 - val_dice_coef: 0.9028\n",
      "\n",
      "Epoch 00014: val_loss did not improve from 0.14623\n",
      "Epoch 15/30\n",
      "5529/5529 [==============================] - 26s 5ms/step - loss: 0.0764 - dice_coef: 0.9314 - val_loss: 0.1506 - val_dice_coef: 0.9028\n",
      "\n",
      "Epoch 00015: val_loss did not improve from 0.14623\n",
      "Epoch 16/30\n",
      "5529/5529 [==============================] - 26s 5ms/step - loss: 0.0733 - dice_coef: 0.9343 - val_loss: 0.1477 - val_dice_coef: 0.9103\n",
      "\n",
      "Epoch 00016: val_loss did not improve from 0.14623\n",
      "Epoch 17/30\n",
      "5529/5529 [==============================] - 26s 5ms/step - loss: 0.0791 - dice_coef: 0.9291 - val_loss: 0.1518 - val_dice_coef: 0.8977\n",
      "\n",
      "Epoch 00017: val_loss did not improve from 0.14623\n",
      "Epoch 18/30\n",
      "5529/5529 [==============================] - 26s 5ms/step - loss: 0.0698 - dice_coef: 0.9374 - val_loss: 0.1452 - val_dice_coef: 0.9096\n",
      "\n",
      "Epoch 00018: val_loss improved from 0.14623 to 0.14521, saving model to model-full-bce-64x64-32.h5\n",
      "Epoch 19/30\n",
      "5529/5529 [==============================] - 26s 5ms/step - loss: 0.0643 - dice_coef: 0.9423 - val_loss: 0.1428 - val_dice_coef: 0.9137\n",
      "\n",
      "Epoch 00019: val_loss improved from 0.14521 to 0.14277, saving model to model-full-bce-64x64-32.h5\n",
      "Epoch 20/30\n",
      "5529/5529 [==============================] - 26s 5ms/step - loss: 0.0608 - dice_coef: 0.9454 - val_loss: 0.1445 - val_dice_coef: 0.9121\n",
      "\n",
      "Epoch 00020: val_loss did not improve from 0.14277\n",
      "Epoch 21/30\n",
      "5529/5529 [==============================] - 26s 5ms/step - loss: 0.0597 - dice_coef: 0.9464 - val_loss: 0.1430 - val_dice_coef: 0.9135\n",
      "\n",
      "Epoch 00021: val_loss did not improve from 0.14277\n",
      "Epoch 22/30\n",
      "5529/5529 [==============================] - 26s 5ms/step - loss: 0.0617 - dice_coef: 0.9446 - val_loss: 0.1464 - val_dice_coef: 0.9090\n",
      "\n",
      "Epoch 00022: val_loss did not improve from 0.14277\n",
      "Epoch 23/30\n",
      "5529/5529 [==============================] - 26s 5ms/step - loss: 0.0615 - dice_coef: 0.9448 - val_loss: 0.1495 - val_dice_coef: 0.9103\n",
      "\n",
      "Epoch 00023: val_loss did not improve from 0.14277\n",
      "Epoch 24/30\n",
      "5529/5529 [==============================] - 26s 5ms/step - loss: 0.0533 - dice_coef: 0.9522 - val_loss: 0.1491 - val_dice_coef: 0.9173\n",
      "\n",
      "Epoch 00024: val_loss did not improve from 0.14277\n",
      "Epoch 00024: early stopping\n"
     ]
    }
   ],
   "source": [
    "# Fit model\n",
    "model = load_model('model-full-bce-64x64-32.h5', custom_objects={'dice_coef': dice_coef, 'dice_coef_loss': dice_coef_loss})\n",
    "\n",
    "earlystopper = EarlyStopping(patience=5, verbose=1)\n",
    "checkpointer = ModelCheckpoint('model-full-bce-64x64-32.h5', verbose=1, save_best_only=True)\n",
    "results = model.fit(X_train, y_train, validation_split=0.1, batch_size=32, epochs=30, \n",
    "                    callbacks=[earlystopper, checkpointer])"
   ]
  },
  {
   "cell_type": "code",
   "execution_count": 8,
   "metadata": {
    "collapsed": true
   },
   "outputs": [],
   "source": [
    "# Predict on train, val and test\n",
    "model = load_model('model-full-bce-64x64-32.h5', custom_objects={'dice_coef': dice_coef, 'dice_coef_loss': dice_coef_loss})\n"
   ]
  },
  {
   "cell_type": "code",
   "execution_count": 15,
   "metadata": {},
   "outputs": [
    {
     "name": "stdout",
     "output_type": "stream",
     "text": [
      "5529/5529 [==============================] - 7s 1ms/step\n",
      "615/615 [==============================] - 1s 1ms/step\n",
      "1536/1536 [==============================] - 2s 1ms/step\n"
     ]
    }
   ],
   "source": [
    "preds_train = model.predict(X_train[:int(X_train.shape[0]*0.9)], verbose=1)\n",
    "preds_val = model.predict(X_train[int(X_train.shape[0]*0.9):], verbose=1)\n",
    "preds_test = model.predict(X_test, verbose=1)\n",
    "\n",
    "# Threshold predictions\n",
    "preds_train_t = (preds_train > 0.5).astype(np.uint8)\n",
    "preds_val_t = (preds_val > 0.5).astype(np.uint8)\n",
    "preds_test_t = (preds_test > 0.5).astype(np.uint8)"
   ]
  },
  {
   "cell_type": "code",
   "execution_count": 16,
   "metadata": {
    "scrolled": true
   },
   "outputs": [
    {
     "name": "stdout",
     "output_type": "stream",
     "text": [
      "0.9680138424062952\n",
      "0.9327276714820305\n",
      "0.9278367413458742\n"
     ]
    }
   ],
   "source": [
    "def dice_coef_np(y_pred, y_true):\n",
    "    intersection = np.sum(y_pred * y_true)\n",
    "    union = np.sum(y_pred + y_true)\n",
    "    return 2 * intersection / union\n",
    "\n",
    "print(dice_coef_np(preds_train_t, y_train[:int(y_train.shape[0]*0.9)]))\n",
    "print(dice_coef_np(preds_val_t, y_train[int(y_train.shape[0]*0.9):]))\n",
    "print(dice_coef_np(preds_test_t, y_test))"
   ]
  },
  {
   "cell_type": "code",
   "execution_count": 17,
   "metadata": {},
   "outputs": [
    {
     "name": "stdout",
     "output_type": "stream",
     "text": [
      "0.9787622825386598\n",
      "0.9534846608231707\n",
      "0.9510157903035482\n"
     ]
    }
   ],
   "source": [
    "print(np.mean(preds_train_t == y_train[:int(y_train.shape[0]*0.9)]))\n",
    "print(np.mean(preds_val_t == y_train[int(y_train.shape[0]*0.9):]))\n",
    "print(np.mean(preds_test_t == y_test))"
   ]
  },
  {
   "cell_type": "code",
   "execution_count": 212,
   "metadata": {
    "collapsed": true
   },
   "outputs": [],
   "source": [
    "# Create list of upsampled test masks\n",
    "preds_test_upsampled = []\n",
    "for i in range(len(preds_test)):\n",
    "    preds_test_upsampled.append(preds_test[i])"
   ]
  },
  {
   "cell_type": "code",
   "execution_count": 19,
   "metadata": {},
   "outputs": [
    {
     "name": "stderr",
     "output_type": "stream",
     "text": [
      "/usr/lib/python3/dist-packages/skimage/io/_plugins/matplotlib_plugin.py:51: FutureWarning: Conversion of the second argument of issubdtype from `float` to `np.floating` is deprecated. In future, it will be treated as `np.float64 == np.dtype(float).type`.\n",
      "  out_of_range_float = (np.issubdtype(image.dtype, np.float) and\n"
     ]
    },
    {
     "data": {
      "image/png": "[encoded data removed]",
      "text/plain": [
       "<matplotlib.figure.Figure at 0x7fc29d15c400>"
      ]
     },
     "metadata": {
      "needs_background": "light"
     },
     "output_type": "display_data"
    },
    {
     "data": {
      "image/png": "[encoded data removed]",
      "text/plain": [
       "<matplotlib.figure.Figure at 0x7fc2a0fb1710>"
      ]
     },
     "metadata": {
      "needs_background": "light"
     },
     "output_type": "display_data"
    },
    {
     "data": {
      "image/png": "[encoded data removed]",
      "text/plain": [
       "<matplotlib.figure.Figure at 0x7fc2a0f3c048>"
      ]
     },
     "metadata": {
      "needs_background": "light"
     },
     "output_type": "display_data"
    }
   ],
   "source": [
    "# Perform a sanity check on some random training samples\n",
    "ix = random.randint(0, len(preds_train_t))\n",
    "imshow(X_train[ix])\n",
    "plt.show()\n",
    "imshow(np.squeeze(y_train[ix]))\n",
    "plt.show()\n",
    "imshow(np.squeeze(preds_train_t[ix]))\n",
    "plt.show()"
   ]
  },
  {
   "cell_type": "code",
   "execution_count": null,
   "metadata": {
    "collapsed": true,
    "scrolled": true
   },
   "outputs": [],
   "source": [
    "# Perform a sanity check on some random validation samples\n",
    "ix = random.randint(0, len(preds_val_t))\n",
    "imshow(X_train[int(X_train.shape[0]*0.9):][ix])\n",
    "plt.show()\n",
    "imshow(np.squeeze(y_train[int(y_train.shape[0]*0.9):][ix]))\n",
    "plt.show()\n",
    "imshow(np.squeeze(preds_val_t[ix]))\n",
    "plt.show()\n",
    "for ix in range(0,len(preds_val_t) -1):\n",
    "    #imshow(X_train[int(X_train.shape[0]*0.9):][ix])\n",
    "    #plt.show()\n",
    "    imshow(np.squeeze(y_train[int(y_train.shape[0]*0.9):][ix]))\n",
    "    plt.show()\n",
    "    imshow(np.squeeze(preds_val_t[ix]))\n",
    "    plt.show()"
   ]
  },
  {
   "cell_type": "code",
   "execution_count": null,
   "metadata": {
    "collapsed": true,
    "scrolled": true
   },
   "outputs": [],
   "source": [
    "for ix in range(0,len(preds_test_t) -1):\n",
    "    imshow(np.squeeze(y_test[ix]))\n",
    "    plt.show()\n",
    "    imshow(np.squeeze(preds_test_t[ix]))\n",
    "    plt.show()"
   ]
  },
  {
   "cell_type": "code",
   "execution_count": null,
   "metadata": {
    "collapsed": true
   },
   "outputs": [],
   "source": []
  }
 ],
 "metadata": {
  "kernelspec": {
   "display_name": "Python 3",
   "language": "python",
   "name": "python3"
  },
  "language_info": {
   "codemirror_mode": {
    "name": "ipython",
    "version": 3
   },
   "file_extension": ".py",
   "mimetype": "text/x-python",
   "name": "python",
   "nbconvert_exporter": "python",
   "pygments_lexer": "ipython3",
   "version": "3.6.4"
  }
 },
 "nbformat": 4,
 "nbformat_minor": 2
}
